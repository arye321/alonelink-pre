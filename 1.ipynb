{
 "cells": [
  {
   "cell_type": "code",
   "execution_count": null,
   "metadata": {},
   "outputs": [],
   "source": [
    "!pip install yt-dlp"
   ]
  },
  {
   "cell_type": "code",
   "execution_count": 1,
   "metadata": {},
   "outputs": [
    {
     "data": {
      "text/plain": [
       "1"
      ]
     },
     "execution_count": 1,
     "metadata": {},
     "output_type": "execute_result"
    }
   ],
   "source": [
    "1"
   ]
  },
  {
   "cell_type": "code",
   "execution_count": 2,
   "metadata": {},
   "outputs": [
    {
     "name": "stdout",
     "output_type": "stream",
     "text": [
      "[aenetworks] Extracting URL: https://play.history.com/shows/alone/season-11/episode-2\n",
      "[aenetworks] /shows/alone/season-11/episode-2: Downloading JSON metadata\n",
      "[aenetworks] 2348310595773: Downloading JSON metadata\n",
      "[aenetworks] 2348310595773: Downloading hls_high_ak SMIL data\n",
      "[aenetworks] 2348310595773: Downloading high_video_s3 SMIL data\n",
      "[aenetworks] 2348310595773: Downloading hls_high_fastly SMIL data\n",
      "[aenetworks] 2348310595773: Downloading m3u8 information\n"
     ]
    }
   ],
   "source": [
    "import json\n",
    "import yt_dlp\n",
    "URL = \"https://play.history.com/shows/alone/season-11/episode-2\"\n",
    "ydl_opts = {}\n",
    "with yt_dlp.YoutubeDL(ydl_opts) as ydl:\n",
    "    info = ydl.extract_info(URL, download=False)\n",
    "    # streamlink = ydl.sanitize_info(info)['formats'][0]['manifest_url']\n",
    "    \n",
    "with open('data.json', 'w') as json_file:\n",
    "    json.dump(ydl.sanitize_info(info), json_file, indent=4)"
   ]
  },
  {
   "cell_type": "code",
   "execution_count": 3,
   "metadata": {},
   "outputs": [
    {
     "data": {
      "text/plain": [
       "'https://sundries-vds.video.aetnd.com/bitmovin/AETN-History_VMS/THC_ALON_293094_GLB_474751_5994_90_20240517_02_AETN-History_VMS_,25,18,13,10,7,4,2,1,00.mp4.csmil/master.m3u8?audio=en,en_commentary&origin=credentials-prod&hdnea=st=1719034264~exp=1719045094~acl=/bitmovin/AETN-History_VMS/THC_ALON_293094_GLB_474751_5994_90_20240517_02_AETN-History_VMS_*~hmac=aadf419c4fc72150d88eccc114621d44b188cf190bd00c45e2d9e572068758a0'"
      ]
     },
     "execution_count": 3,
     "metadata": {},
     "output_type": "execute_result"
    }
   ],
   "source": [
    "ydl.sanitize_info(info)['formats'][0]['manifest_url']"
   ]
  },
  {
   "cell_type": "code",
   "execution_count": null,
   "metadata": {},
   "outputs": [],
   "source": [
    "!pip install Flask"
   ]
  }
 ],
 "metadata": {
  "kernelspec": {
   "display_name": "Python 3",
   "language": "python",
   "name": "python3"
  },
  "language_info": {
   "codemirror_mode": {
    "name": "ipython",
    "version": 3
   },
   "file_extension": ".py",
   "mimetype": "text/x-python",
   "name": "python",
   "nbconvert_exporter": "python",
   "pygments_lexer": "ipython3",
   "version": "3.10.13"
  }
 },
 "nbformat": 4,
 "nbformat_minor": 2
}
